{
 "cells": [
  {
   "cell_type": "code",
   "execution_count": 3,
   "id": "e6c9dbb9-675b-4656-8ed4-6c48fd8a09ff",
   "metadata": {},
   "outputs": [
    {
     "name": "stdout",
     "output_type": "stream",
     "text": [
      "Your hostname is 54a3feff2724\n",
      "The IP address is: 172.18.0.20\n",
      "The website python.orgis having IP address151.101.65.168\n"
     ]
    }
   ],
   "source": [
    "import socket as s\n",
    "\n",
    "hostname_user =s.gethostname()\n",
    "print(f\"Your hostname is {hostname_user}\")\n",
    "\n",
    "ip_user = s.gethostbyname(hostname_user)\n",
    "print(f\"The IP address is: {ip_user}\")\n",
    "\n",
    "site_host ='python.org'\n",
    "site_ip = s.gethostbyname(site_host)\n",
    "print(f\"The website {site_host}is having IP address{site_ip}\")\n",
    "\n"
   ]
  },
  {
   "cell_type": "code",
   "execution_count": null,
   "id": "f8eb5e3d-a71b-4f5c-8239-1919b4185abf",
   "metadata": {},
   "outputs": [],
   "source": []
  },
  {
   "cell_type": "code",
   "execution_count": null,
   "id": "7fd6f4ff-98ac-43fa-8d7d-d901653df80e",
   "metadata": {},
   "outputs": [],
   "source": []
  }
 ],
 "metadata": {
  "kernelspec": {
   "display_name": "Python 3 (ipykernel)",
   "language": "python",
   "name": "python3"
  },
  "language_info": {
   "codemirror_mode": {
    "name": "ipython",
    "version": 3
   },
   "file_extension": ".py",
   "mimetype": "text/x-python",
   "name": "python",
   "nbconvert_exporter": "python",
   "pygments_lexer": "ipython3",
   "version": "3.10.8"
  }
 },
 "nbformat": 4,
 "nbformat_minor": 5
}
